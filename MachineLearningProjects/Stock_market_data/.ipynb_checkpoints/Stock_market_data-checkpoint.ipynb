{
 "cells": [
  {
   "cell_type": "code",
   "execution_count": null,
   "id": "c5935398",
   "metadata": {},
   "outputs": [
    {
     "name": "stderr",
     "output_type": "stream",
     "text": [
      "C:\\Users\\hp\\anaconda3\\lib\\site-packages\\pandas\\core\\arrays\\masked.py:60: UserWarning: Pandas requires version '1.3.6' or newer of 'bottleneck' (version '1.3.5' currently installed).\n",
      "  from pandas.core import (\n"
     ]
    }
   ],
   "source": [
    "import numpy as np\n",
    "import numpy as np\n",
    "import pandas as pd\n",
    "from matplotlib.pyplot import subplots\n",
    "import statsmodels.api as sm\n",
    "from ISLP import load_data\n",
    "from ISLP.models import (ModelSpec as MS, summarize)\n",
    "from ISLP import confusion_table\n",
    "from ISLP.models import contrast\n",
    "from sklearn.discriminant_analysis import \\\n",
    "(LinearDiscriminantAnalysis as LDA,\n",
    "QuadraticDiscriminantAnalysis as QDA)\n",
    "\n",
    "from sklearn.naive_bayes import GaussianNB\n",
    "from sklearn.neighbors import KNeighborsClassifier\n",
    "from sklearn.preprocessing import StandardScaler\n",
    "from sklearn.model_selection import train_test_split\n",
    "from sklearn.linear_model import LogisticRegression\n",
    "Smarket = load_data('Smarket')\n",
    "\n",
    "# Direction has string input so it is messing with the correlation\n",
    "no_direction_columns = Smarket.drop(columns=['Direction'])\n",
    "\n"
   ]
  },
  {
   "cell_type": "code",
   "execution_count": null,
   "id": "dacc7c83",
   "metadata": {},
   "outputs": [],
   "source": [
    "no_direction_columns.corr()"
   ]
  },
  {
   "cell_type": "code",
   "execution_count": null,
   "id": "c4442859",
   "metadata": {},
   "outputs": [],
   "source": [
    "Smarket"
   ]
  },
  {
   "cell_type": "code",
   "execution_count": null,
   "id": "f68aef0f",
   "metadata": {},
   "outputs": [],
   "source": [
    "Smarket.plot(y='Volume');"
   ]
  },
  {
   "cell_type": "code",
   "execution_count": null,
   "id": "94e75132",
   "metadata": {},
   "outputs": [],
   "source": [
    "# Here we used all features except the dropped features below as predictors.\n",
    "allvars = Smarket.columns.drop(['Today', 'Direction', 'Year'])\n",
    "design = MS(allvars)\n",
    "\n",
    "X = design.fit_transform(Smarket)\n",
    "\n",
    "y = Smarket.Direction == 'Up'\n",
    "glm = sm.GLM(y,\n",
    "X,\n",
    "family=sm.families.Binomial())\n",
    "results = glm.fit()\n",
    "summarize(results)"
   ]
  },
  {
   "cell_type": "code",
   "execution_count": null,
   "id": "3bc96590",
   "metadata": {},
   "outputs": [],
   "source": [
    "results.params"
   ]
  },
  {
   "cell_type": "code",
   "execution_count": null,
   "id": "8f1a3aab",
   "metadata": {},
   "outputs": [],
   "source": [
    "results.pvalues"
   ]
  },
  {
   "cell_type": "code",
   "execution_count": null,
   "id": "d9457586",
   "metadata": {},
   "outputs": [],
   "source": [
    "probs = results.predict()\n",
    "probs[:10]"
   ]
  },
  {
   "cell_type": "code",
   "execution_count": null,
   "id": "83e44785",
   "metadata": {},
   "outputs": [],
   "source": [
    "labels = np.array(['Down']*len(Smarket))\n",
    "# Labels with probability > 0.5 = up\n",
    "labels[probs > 0.5] = \"Up\"\n"
   ]
  },
  {
   "cell_type": "code",
   "execution_count": null,
   "id": "3ab6b4fd",
   "metadata": {},
   "outputs": [],
   "source": [
    "truth_table = confusion_table(labels, Smarket.Direction)"
   ]
  },
  {
   "cell_type": "code",
   "execution_count": null,
   "id": "834d033c",
   "metadata": {},
   "outputs": [],
   "source": [
    "\n",
    "print(truth_table['Down']['Down']/truth_table['Down']['Up'])"
   ]
  },
  {
   "cell_type": "code",
   "execution_count": null,
   "id": "db86afc1",
   "metadata": {},
   "outputs": [],
   "source": [
    "print(truth_table['Up']['Down']/truth_table['Up']['Up'])"
   ]
  },
  {
   "cell_type": "code",
   "execution_count": null,
   "id": "b9a0bf50",
   "metadata": {},
   "outputs": [],
   "source": [
    "print(truth_table)"
   ]
  },
  {
   "cell_type": "code",
   "execution_count": null,
   "id": "8e91666d",
   "metadata": {},
   "outputs": [],
   "source": [
    "# One way of calculating accuracy\n",
    "accuracy_1 = np.mean(labels == Smarket.Direction)\n",
    "print(accuracy_1)"
   ]
  },
  {
   "cell_type": "code",
   "execution_count": null,
   "id": "b58a8611",
   "metadata": {},
   "outputs": [],
   "source": [
    "# Correct prediction\n",
    "total_correct = truth_table['Down']['Down'] + truth_table['Up']['Up']\n",
    "accuracy_2 = total_correct/len(Smarket)\n",
    "print(accuracy_2)"
   ]
  },
  {
   "cell_type": "code",
   "execution_count": null,
   "id": "130b184b",
   "metadata": {},
   "outputs": [],
   "source": []
  },
  {
   "cell_type": "code",
   "execution_count": null,
   "id": "4d3735a6",
   "metadata": {},
   "outputs": [],
   "source": []
  },
  {
   "cell_type": "code",
   "execution_count": null,
   "id": "2f405eb0",
   "metadata": {},
   "outputs": [],
   "source": [
    "# Train Data\n",
    "train_2005 = (Smarket.Year < 2005)\n",
    "Smarket_train = Smarket.loc[train_2005]\n",
    "# Test Data Select those that are not specified by boolean (that is select around 2005 and upwards)\n",
    "Smarket_test = Smarket.loc[~train_2005]\n",
    "X_train, X_test = X.loc[train_2005], X.loc[~train_2005]\n",
    "Y_train, Y_test = y.loc[train_2005], y.loc[~train_2005]\n",
    "# Model\n",
    "glm_train = sm.GLM(Y_train, X_train, family=sm.families.Binomial())\n",
    "results = glm_train.fit()\n",
    "# Parameters\n",
    "probs = results.predict(exog = X_test)"
   ]
  },
  {
   "cell_type": "code",
   "execution_count": 26,
   "id": "4ea54e8d",
   "metadata": {},
   "outputs": [],
   "source": [
    "D = Smarket.Direction\n",
    "L_train, L_test = D.loc[train_2005], D.loc[~train_2005]"
   ]
  },
  {
   "cell_type": "code",
   "execution_count": 30,
   "id": "58940c98",
   "metadata": {},
   "outputs": [
    {
     "data": {
      "text/html": [
       "<div>\n",
       "<style scoped>\n",
       "    .dataframe tbody tr th:only-of-type {\n",
       "        vertical-align: middle;\n",
       "    }\n",
       "\n",
       "    .dataframe tbody tr th {\n",
       "        vertical-align: top;\n",
       "    }\n",
       "\n",
       "    .dataframe thead th {\n",
       "        text-align: right;\n",
       "    }\n",
       "</style>\n",
       "<table border=\"1\" class=\"dataframe\">\n",
       "  <thead>\n",
       "    <tr style=\"text-align: right;\">\n",
       "      <th>Truth</th>\n",
       "      <th>Down</th>\n",
       "      <th>Up</th>\n",
       "    </tr>\n",
       "    <tr>\n",
       "      <th>Predicted</th>\n",
       "      <th></th>\n",
       "      <th></th>\n",
       "    </tr>\n",
       "  </thead>\n",
       "  <tbody>\n",
       "    <tr>\n",
       "      <th>Down</th>\n",
       "      <td>77</td>\n",
       "      <td>97</td>\n",
       "    </tr>\n",
       "    <tr>\n",
       "      <th>Up</th>\n",
       "      <td>34</td>\n",
       "      <td>44</td>\n",
       "    </tr>\n",
       "  </tbody>\n",
       "</table>\n",
       "</div>"
      ],
      "text/plain": [
       "Truth      Down  Up\n",
       "Predicted          \n",
       "Down         77  97\n",
       "Up           34  44"
      ]
     },
     "execution_count": 30,
     "metadata": {},
     "output_type": "execute_result"
    }
   ],
   "source": [
    "# Now we threshold the ftted probability at 50% to form our predicted labels.\n",
    "labels = np.array(['Down']*252)\n",
    "labels[probs >0.5] = 'Up'\n",
    "confusion_table(labels, L_test)"
   ]
  },
  {
   "cell_type": "code",
   "execution_count": 33,
   "id": "0ea4a8a2",
   "metadata": {},
   "outputs": [
    {
     "data": {
      "text/plain": [
       "(0.4801587301587302, 0.5198412698412699)"
      ]
     },
     "execution_count": 33,
     "metadata": {},
     "output_type": "execute_result"
    }
   ],
   "source": [
    "# This is how model accuracy is evaluated\n",
    "np.mean(labels == L_test), np.mean(labels!=L_test)"
   ]
  },
  {
   "cell_type": "code",
   "execution_count": 37,
   "id": "08f9b886",
   "metadata": {},
   "outputs": [
    {
     "data": {
      "text/html": [
       "<div>\n",
       "<style scoped>\n",
       "    .dataframe tbody tr th:only-of-type {\n",
       "        vertical-align: middle;\n",
       "    }\n",
       "\n",
       "    .dataframe tbody tr th {\n",
       "        vertical-align: top;\n",
       "    }\n",
       "\n",
       "    .dataframe thead th {\n",
       "        text-align: right;\n",
       "    }\n",
       "</style>\n",
       "<table border=\"1\" class=\"dataframe\">\n",
       "  <thead>\n",
       "    <tr style=\"text-align: right;\">\n",
       "      <th>Truth</th>\n",
       "      <th>Down</th>\n",
       "      <th>Up</th>\n",
       "    </tr>\n",
       "    <tr>\n",
       "      <th>Predicted</th>\n",
       "      <th></th>\n",
       "      <th></th>\n",
       "    </tr>\n",
       "  </thead>\n",
       "  <tbody>\n",
       "    <tr>\n",
       "      <th>Down</th>\n",
       "      <td>35</td>\n",
       "      <td>35</td>\n",
       "    </tr>\n",
       "    <tr>\n",
       "      <th>Up</th>\n",
       "      <td>76</td>\n",
       "      <td>106</td>\n",
       "    </tr>\n",
       "  </tbody>\n",
       "</table>\n",
       "</div>"
      ],
      "text/plain": [
       "Truth      Down   Up\n",
       "Predicted           \n",
       "Down         35   35\n",
       "Up           76  106"
      ]
     },
     "execution_count": 37,
     "metadata": {},
     "output_type": "execute_result"
    }
   ],
   "source": [
    "model = MS(['Lag1', 'Lag2']).fit(Smarket)\n",
    "X = model.transform(Smarket)\n",
    "X_train, X_test = X.loc[train_2005], X.loc[~train_2005]\n",
    "glm_train = sm.GLM(Y_train,\n",
    "X_train,\n",
    "family=sm.families.Binomial())\n",
    "results = glm_train.fit()\n",
    "probs = results.predict(exog=X_test)\n",
    "labels = np.array(['Down']*252)\n",
    "labels[probs >0.5] = 'Up'\n",
    "confusion_table(labels, L_test)"
   ]
  },
  {
   "cell_type": "code",
   "execution_count": 38,
   "id": "ddc75a8b",
   "metadata": {},
   "outputs": [
    {
     "data": {
      "text/plain": [
       "(0.5595238095238095, 0.44047619047619047)"
      ]
     },
     "execution_count": 38,
     "metadata": {},
     "output_type": "execute_result"
    }
   ],
   "source": [
    "np.mean(labels == L_test), np.mean(labels!=L_test)"
   ]
  },
  {
   "cell_type": "code",
   "execution_count": 44,
   "id": "f5df8e6a",
   "metadata": {},
   "outputs": [
    {
     "data": {
      "text/plain": [
       "0    0.479146\n",
       "1    0.496094\n",
       "dtype: float64"
      ]
     },
     "execution_count": 44,
     "metadata": {},
     "output_type": "execute_result"
    }
   ],
   "source": [
    " newdata = pd.DataFrame({'Lag1':[1.2, 1.5],\n",
    "'Lag2':[1.1, -0.8]}); \n",
    "newX = model.transform(newdata)\n",
    "results.predict(newX)\n"
   ]
  },
  {
   "cell_type": "code",
   "execution_count": null,
   "id": "e18aa4d4",
   "metadata": {},
   "outputs": [],
   "source": []
  },
  {
   "cell_type": "markdown",
   "id": "9ef1a4ea",
   "metadata": {},
   "source": [
    "# Linear discriminant ANALYSIS\n"
   ]
  },
  {
   "cell_type": "code",
   "execution_count": 1,
   "id": "5ced221b",
   "metadata": {},
   "outputs": [
    {
     "ename": "NameError",
     "evalue": "name 'LDA' is not defined",
     "output_type": "error",
     "traceback": [
      "\u001b[1;31m---------------------------------------------------------------------------\u001b[0m",
      "\u001b[1;31mNameError\u001b[0m                                 Traceback (most recent call last)",
      "Cell \u001b[1;32mIn[1], line 1\u001b[0m\n\u001b[1;32m----> 1\u001b[0m lda \u001b[38;5;241m=\u001b[39m \u001b[43mLDA\u001b[49m(store_covariance\u001b[38;5;241m=\u001b[39m\u001b[38;5;28;01mTrue\u001b[39;00m)\n",
      "\u001b[1;31mNameError\u001b[0m: name 'LDA' is not defined"
     ]
    }
   ],
   "source": [
    "lda = LDA(store_covariance=True)\n",
    "\n",
    "X_train, X_test = X.loc[train_2005], X.loc[~train_2005]\n",
    "# We are dropping intercepts because, LDA has it's own set of intercepts\n",
    "X_train, X_test = [M.drop(columns=['intercept']) for M in [X_train, X_test]]\n",
    "lda.fit(X_train, L_train)"
   ]
  },
  {
   "cell_type": "code",
   "execution_count": null,
   "id": "a244f03f",
   "metadata": {},
   "outputs": [],
   "source": []
  }
 ],
 "metadata": {
  "kernelspec": {
   "display_name": "Python 3 (ipykernel)",
   "language": "python",
   "name": "python3"
  },
  "language_info": {
   "codemirror_mode": {
    "name": "ipython",
    "version": 3
   },
   "file_extension": ".py",
   "mimetype": "text/x-python",
   "name": "python",
   "nbconvert_exporter": "python",
   "pygments_lexer": "ipython3",
   "version": "3.10.9"
  }
 },
 "nbformat": 4,
 "nbformat_minor": 5
}
