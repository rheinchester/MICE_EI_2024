{
 "cells": [
  {
   "cell_type": "code",
   "execution_count": 1,
   "id": "e49049d9",
   "metadata": {},
   "outputs": [
    {
     "name": "stderr",
     "output_type": "stream",
     "text": [
      "C:\\Users\\hp\\anaconda3\\lib\\site-packages\\pandas\\core\\arrays\\masked.py:60: UserWarning: Pandas requires version '1.3.6' or newer of 'bottleneck' (version '1.3.5' currently installed).\n",
      "  from pandas.core import (\n"
     ]
    }
   ],
   "source": [
    "import numpy as np\n",
    "import numpy as np\n",
    "import pandas as pd\n",
    "from matplotlib.pyplot import subplots\n",
    "import statsmodels.api as sm\n",
    "from ISLP import load_data\n",
    "from ISLP.models import (ModelSpec as MS, summarize)\n",
    "from ISLP import confusion_table\n",
    "from ISLP.models import contrast\n",
    "from sklearn.discriminant_analysis import \\\n",
    "(LinearDiscriminantAnalysis as LDA,\n",
    "QuadraticDiscriminantAnalysis as QDA)\n",
    "\n",
    "from sklearn.naive_bayes import GaussianNB\n",
    "from sklearn.neighbors import KNeighborsClassifier\n",
    "from sklearn.preprocessing import StandardScaler\n",
    "from sklearn.model_selection import train_test_split\n",
    "from sklearn.linear_model import LogisticRegression\n",
    "Smarket = load_data('Smarket')\n",
    "\n",
    "# Direction has string input so it is messing with the correlation\n",
    "no_direction_columns = Smarket.drop(columns=['Direction'])\n"
   ]
  },
  {
   "cell_type": "code",
   "execution_count": 9,
   "id": "65c3aa9a",
   "metadata": {},
   "outputs": [],
   "source": [
    "# # Train Data\n",
    "# train_2005 = (Smarket.Year < 2005)\n",
    "# Smarket_train = Smarket.loc[train_2005]\n",
    "# # Test Data Select those that are not specified by boolean (that is select around 2005 and upwards)\n",
    "# Smarket_test = Smarket.loc[~train_2005]\n",
    "# X_train, X_test = X.loc[train_2005], X.loc[~train_2005]\n",
    "# # Y_train, Y_test = y.loc[train_2005], y.loc[~train_2005]\n",
    "# # Model\n",
    "# glm_train = sm.GLM(Y_train, X_train, family=sm.families.Binomial())\n",
    "# results = glm_train.fit()\n",
    "# # Parameters\n",
    "# probs = results.predict(exog = X_test)\n",
    "\n",
    "\n",
    "# model = MS(['Lag1', 'Lag2']).fit(Smarket)\n",
    "# X = model.transform(Smarket)\n",
    "# X_train, X_test = X.loc[train_2005], X.loc[~train_2005]\n",
    "# glm_train = sm.GLM(Y_train,\n",
    "# X_train,\n",
    "# family=sm.families.Binomial())\n",
    "# results = glm_train.fit()\n",
    "# probs = results.predict(exog=X_test)\n",
    "# labels = np.array(['Down']*252)\n",
    "# labels[probs >0.5] = 'Up'\n",
    "# confusion_table(labels, L_test)"
   ]
  },
  {
   "cell_type": "code",
   "execution_count": 10,
   "id": "113ebef6",
   "metadata": {},
   "outputs": [],
   "source": []
  },
  {
   "cell_type": "code",
   "execution_count": null,
   "id": "5b07e450",
   "metadata": {},
   "outputs": [],
   "source": []
  },
  {
   "cell_type": "code",
   "execution_count": null,
   "id": "4439fec0",
   "metadata": {},
   "outputs": [],
   "source": []
  }
 ],
 "metadata": {
  "kernelspec": {
   "display_name": "Python 3 (ipykernel)",
   "language": "python",
   "name": "python3"
  },
  "language_info": {
   "codemirror_mode": {
    "name": "ipython",
    "version": 3
   },
   "file_extension": ".py",
   "mimetype": "text/x-python",
   "name": "python",
   "nbconvert_exporter": "python",
   "pygments_lexer": "ipython3",
   "version": "3.10.9"
  }
 },
 "nbformat": 4,
 "nbformat_minor": 5
}
